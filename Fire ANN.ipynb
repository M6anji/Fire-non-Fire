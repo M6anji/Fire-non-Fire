{
 "cells": [
  {
   "cell_type": "code",
   "execution_count": 1,
   "id": "cde9d42b",
   "metadata": {},
   "outputs": [],
   "source": [
    "import glob\n",
    "import cv2\n",
    "from sklearn.model_selection import train_test_split\n",
    "import tensorflow as tf\n",
    "from tensorflow import keras\n",
    "from tensorflow.keras.utils import to_categorical\n",
    "from sklearn.preprocessing import LabelBinarizer\n",
    "import numpy as np\n",
    "from tensorflow.keras import models , layers"
   ]
  },
  {
   "cell_type": "code",
   "execution_count": 41,
   "id": "1388084e",
   "metadata": {},
   "outputs": [],
   "source": [
    "datas = []\n",
    "labels = []"
   ]
  },
  {
   "cell_type": "code",
   "execution_count": 42,
   "id": "01c8f63b",
   "metadata": {},
   "outputs": [],
   "source": [
    "LB = LabelBinarizer()"
   ]
  },
  {
   "cell_type": "code",
   "execution_count": 43,
   "id": "a31e6d23",
   "metadata": {},
   "outputs": [],
   "source": [
    "for item in glob.glob(\"C:\\\\Users\\\\User\\\\Desktop\\\\New folder\\\\ANN\\\\fire_dataset\\\\*\\\\*\"):\n",
    "    image = cv2.imread(item)\n",
    "    resize_image = cv2.resize(image , (32,32))\n",
    "    normalized_image = resize_image / 255.0\n",
    "    flattened_image = normalized_image.flatten()\n",
    "    datas.append(flattened_image)\n",
    "    label = item.split(\"\\\\\")[-1].split(\".\")[0]\n",
    "    labels.append(label)"
   ]
  },
  {
   "cell_type": "code",
   "execution_count": 44,
   "id": "db49a8d7",
   "metadata": {},
   "outputs": [
    {
     "data": {
      "text/plain": [
       "list"
      ]
     },
     "execution_count": 44,
     "metadata": {},
     "output_type": "execute_result"
    }
   ],
   "source": [
    "type(datas)"
   ]
  },
  {
   "cell_type": "code",
   "execution_count": 45,
   "id": "30695280",
   "metadata": {},
   "outputs": [],
   "source": [
    "datas = np.array(datas)"
   ]
  },
  {
   "cell_type": "code",
   "execution_count": 46,
   "id": "a5bf14ff",
   "metadata": {},
   "outputs": [
    {
     "data": {
      "text/plain": [
       "(998, 3072)"
      ]
     },
     "execution_count": 46,
     "metadata": {},
     "output_type": "execute_result"
    }
   ],
   "source": [
    "datas.shape"
   ]
  },
  {
   "cell_type": "code",
   "execution_count": 47,
   "id": "9c0744ee",
   "metadata": {},
   "outputs": [],
   "source": [
    "X_train , X_test , y_train , y_test =train_test_split(datas , labels ,test_size=0.2, random_state=42 , shuffle=True)"
   ]
  },
  {
   "cell_type": "code",
   "execution_count": 48,
   "id": "91c09df4",
   "metadata": {},
   "outputs": [
    {
     "name": "stdout",
     "output_type": "stream",
     "text": [
      "(798, 3072)\n",
      "(200, 3072)\n"
     ]
    }
   ],
   "source": [
    "print(X_train.shape)\n",
    "print(X_test.shape)"
   ]
  },
  {
   "cell_type": "code",
   "execution_count": 49,
   "id": "c39c8515",
   "metadata": {},
   "outputs": [],
   "source": [
    "y_train = LB.fit_transform(y_train)\n",
    "y_test = LB.transform(y_test)"
   ]
  },
  {
   "cell_type": "code",
   "execution_count": 50,
   "id": "6deb9b2c",
   "metadata": {},
   "outputs": [],
   "source": [
    "y_train = to_categorical(y_train)\n",
    "y_test = to_categorical(y_test)"
   ]
  },
  {
   "cell_type": "code",
   "execution_count": 51,
   "id": "d66e7ca8",
   "metadata": {},
   "outputs": [
    {
     "data": {
      "text/plain": [
       "array([[1., 0.],\n",
       "       [1., 0.],\n",
       "       [1., 0.],\n",
       "       ...,\n",
       "       [0., 1.],\n",
       "       [1., 0.],\n",
       "       [1., 0.]])"
      ]
     },
     "execution_count": 51,
     "metadata": {},
     "output_type": "execute_result"
    }
   ],
   "source": [
    "y_train"
   ]
  },
  {
   "cell_type": "code",
   "execution_count": 52,
   "id": "0c4153d8",
   "metadata": {},
   "outputs": [
    {
     "name": "stderr",
     "output_type": "stream",
     "text": [
      "C:\\Users\\User\\anaconda3\\Lib\\site-packages\\keras\\src\\layers\\core\\dense.py:87: UserWarning: Do not pass an `input_shape`/`input_dim` argument to a layer. When using Sequential models, prefer using an `Input(shape)` object as the first layer in the model instead.\n",
      "  super().__init__(activity_regularizer=activity_regularizer, **kwargs)\n"
     ]
    }
   ],
   "source": [
    "Network = models.Sequential([\n",
    "    layers.Dense(25, activation = \"relu\", input_shape = (3072,)),\n",
    "    layers.Dense(50, activation = \"relu\"),\n",
    "    layers.Dense(2 , activation=\"softmax\")\n",
    "])"
   ]
  },
  {
   "cell_type": "code",
   "execution_count": 53,
   "id": "d576aac0",
   "metadata": {},
   "outputs": [
    {
     "data": {
      "text/html": [
       "<pre style=\"white-space:pre;overflow-x:auto;line-height:normal;font-family:Menlo,'DejaVu Sans Mono',consolas,'Courier New',monospace\"><span style=\"font-weight: bold\">Model: \"sequential_1\"</span>\n",
       "</pre>\n"
      ],
      "text/plain": [
       "\u001b[1mModel: \"sequential_1\"\u001b[0m\n"
      ]
     },
     "metadata": {},
     "output_type": "display_data"
    },
    {
     "data": {
      "text/html": [
       "<pre style=\"white-space:pre;overflow-x:auto;line-height:normal;font-family:Menlo,'DejaVu Sans Mono',consolas,'Courier New',monospace\">┏━━━━━━━━━━━━━━━━━━━━━━━━━━━━━━━━━━━━━━┳━━━━━━━━━━━━━━━━━━━━━━━━━━━━━┳━━━━━━━━━━━━━━━━━┓\n",
       "┃<span style=\"font-weight: bold\"> Layer (type)                         </span>┃<span style=\"font-weight: bold\"> Output Shape                </span>┃<span style=\"font-weight: bold\">         Param # </span>┃\n",
       "┡━━━━━━━━━━━━━━━━━━━━━━━━━━━━━━━━━━━━━━╇━━━━━━━━━━━━━━━━━━━━━━━━━━━━━╇━━━━━━━━━━━━━━━━━┩\n",
       "│ dense_3 (<span style=\"color: #0087ff; text-decoration-color: #0087ff\">Dense</span>)                      │ (<span style=\"color: #00d7ff; text-decoration-color: #00d7ff\">None</span>, <span style=\"color: #00af00; text-decoration-color: #00af00\">25</span>)                  │          <span style=\"color: #00af00; text-decoration-color: #00af00\">76,825</span> │\n",
       "├──────────────────────────────────────┼─────────────────────────────┼─────────────────┤\n",
       "│ dense_4 (<span style=\"color: #0087ff; text-decoration-color: #0087ff\">Dense</span>)                      │ (<span style=\"color: #00d7ff; text-decoration-color: #00d7ff\">None</span>, <span style=\"color: #00af00; text-decoration-color: #00af00\">50</span>)                  │           <span style=\"color: #00af00; text-decoration-color: #00af00\">1,300</span> │\n",
       "├──────────────────────────────────────┼─────────────────────────────┼─────────────────┤\n",
       "│ dense_5 (<span style=\"color: #0087ff; text-decoration-color: #0087ff\">Dense</span>)                      │ (<span style=\"color: #00d7ff; text-decoration-color: #00d7ff\">None</span>, <span style=\"color: #00af00; text-decoration-color: #00af00\">2</span>)                   │             <span style=\"color: #00af00; text-decoration-color: #00af00\">102</span> │\n",
       "└──────────────────────────────────────┴─────────────────────────────┴─────────────────┘\n",
       "</pre>\n"
      ],
      "text/plain": [
       "┏━━━━━━━━━━━━━━━━━━━━━━━━━━━━━━━━━━━━━━┳━━━━━━━━━━━━━━━━━━━━━━━━━━━━━┳━━━━━━━━━━━━━━━━━┓\n",
       "┃\u001b[1m \u001b[0m\u001b[1mLayer (type)                        \u001b[0m\u001b[1m \u001b[0m┃\u001b[1m \u001b[0m\u001b[1mOutput Shape               \u001b[0m\u001b[1m \u001b[0m┃\u001b[1m \u001b[0m\u001b[1m        Param #\u001b[0m\u001b[1m \u001b[0m┃\n",
       "┡━━━━━━━━━━━━━━━━━━━━━━━━━━━━━━━━━━━━━━╇━━━━━━━━━━━━━━━━━━━━━━━━━━━━━╇━━━━━━━━━━━━━━━━━┩\n",
       "│ dense_3 (\u001b[38;5;33mDense\u001b[0m)                      │ (\u001b[38;5;45mNone\u001b[0m, \u001b[38;5;34m25\u001b[0m)                  │          \u001b[38;5;34m76,825\u001b[0m │\n",
       "├──────────────────────────────────────┼─────────────────────────────┼─────────────────┤\n",
       "│ dense_4 (\u001b[38;5;33mDense\u001b[0m)                      │ (\u001b[38;5;45mNone\u001b[0m, \u001b[38;5;34m50\u001b[0m)                  │           \u001b[38;5;34m1,300\u001b[0m │\n",
       "├──────────────────────────────────────┼─────────────────────────────┼─────────────────┤\n",
       "│ dense_5 (\u001b[38;5;33mDense\u001b[0m)                      │ (\u001b[38;5;45mNone\u001b[0m, \u001b[38;5;34m2\u001b[0m)                   │             \u001b[38;5;34m102\u001b[0m │\n",
       "└──────────────────────────────────────┴─────────────────────────────┴─────────────────┘\n"
      ]
     },
     "metadata": {},
     "output_type": "display_data"
    },
    {
     "data": {
      "text/html": [
       "<pre style=\"white-space:pre;overflow-x:auto;line-height:normal;font-family:Menlo,'DejaVu Sans Mono',consolas,'Courier New',monospace\"><span style=\"font-weight: bold\"> Total params: </span><span style=\"color: #00af00; text-decoration-color: #00af00\">78,227</span> (305.57 KB)\n",
       "</pre>\n"
      ],
      "text/plain": [
       "\u001b[1m Total params: \u001b[0m\u001b[38;5;34m78,227\u001b[0m (305.57 KB)\n"
      ]
     },
     "metadata": {},
     "output_type": "display_data"
    },
    {
     "data": {
      "text/html": [
       "<pre style=\"white-space:pre;overflow-x:auto;line-height:normal;font-family:Menlo,'DejaVu Sans Mono',consolas,'Courier New',monospace\"><span style=\"font-weight: bold\"> Trainable params: </span><span style=\"color: #00af00; text-decoration-color: #00af00\">78,227</span> (305.57 KB)\n",
       "</pre>\n"
      ],
      "text/plain": [
       "\u001b[1m Trainable params: \u001b[0m\u001b[38;5;34m78,227\u001b[0m (305.57 KB)\n"
      ]
     },
     "metadata": {},
     "output_type": "display_data"
    },
    {
     "data": {
      "text/html": [
       "<pre style=\"white-space:pre;overflow-x:auto;line-height:normal;font-family:Menlo,'DejaVu Sans Mono',consolas,'Courier New',monospace\"><span style=\"font-weight: bold\"> Non-trainable params: </span><span style=\"color: #00af00; text-decoration-color: #00af00\">0</span> (0.00 B)\n",
       "</pre>\n"
      ],
      "text/plain": [
       "\u001b[1m Non-trainable params: \u001b[0m\u001b[38;5;34m0\u001b[0m (0.00 B)\n"
      ]
     },
     "metadata": {},
     "output_type": "display_data"
    }
   ],
   "source": [
    "Network.summary()"
   ]
  },
  {
   "cell_type": "code",
   "execution_count": 54,
   "id": "80d48186",
   "metadata": {},
   "outputs": [],
   "source": [
    "Network.compile(optimizer=\"SGD\", \n",
    "                loss=\"categorical_crossentropy\",\n",
    "                metrics=[\"accuracy\"])"
   ]
  },
  {
   "cell_type": "code",
   "execution_count": 55,
   "id": "233eda43",
   "metadata": {},
   "outputs": [
    {
     "name": "stdout",
     "output_type": "stream",
     "text": [
      "Epoch 1/150\n",
      "25/25 - 0s - 16ms/step - accuracy: 0.7419 - loss: 0.5287 - val_accuracy: 0.7300 - val_loss: 0.4817\n",
      "Epoch 2/150\n",
      "25/25 - 0s - 2ms/step - accuracy: 0.7757 - loss: 0.4192 - val_accuracy: 0.7950 - val_loss: 0.4083\n",
      "Epoch 3/150\n",
      "25/25 - 0s - 2ms/step - accuracy: 0.8358 - loss: 0.3597 - val_accuracy: 0.8100 - val_loss: 0.3731\n",
      "Epoch 4/150\n",
      "25/25 - 0s - 2ms/step - accuracy: 0.8571 - loss: 0.3167 - val_accuracy: 0.8200 - val_loss: 0.3443\n",
      "Epoch 5/150\n",
      "25/25 - 0s - 2ms/step - accuracy: 0.8784 - loss: 0.2860 - val_accuracy: 0.8350 - val_loss: 0.3194\n",
      "Epoch 6/150\n",
      "25/25 - 0s - 2ms/step - accuracy: 0.9110 - loss: 0.2429 - val_accuracy: 0.8650 - val_loss: 0.2888\n",
      "Epoch 7/150\n",
      "25/25 - 0s - 2ms/step - accuracy: 0.9148 - loss: 0.2367 - val_accuracy: 0.8250 - val_loss: 0.3262\n",
      "Epoch 8/150\n",
      "25/25 - 0s - 2ms/step - accuracy: 0.9023 - loss: 0.2236 - val_accuracy: 0.9150 - val_loss: 0.2264\n",
      "Epoch 9/150\n",
      "25/25 - 0s - 2ms/step - accuracy: 0.9286 - loss: 0.1981 - val_accuracy: 0.9000 - val_loss: 0.2557\n",
      "Epoch 10/150\n",
      "25/25 - 0s - 2ms/step - accuracy: 0.9298 - loss: 0.1917 - val_accuracy: 0.9200 - val_loss: 0.2073\n",
      "Epoch 11/150\n",
      "25/25 - 0s - 2ms/step - accuracy: 0.9223 - loss: 0.2034 - val_accuracy: 0.9250 - val_loss: 0.2174\n",
      "Epoch 12/150\n",
      "25/25 - 0s - 2ms/step - accuracy: 0.9436 - loss: 0.1607 - val_accuracy: 0.9250 - val_loss: 0.2039\n",
      "Epoch 13/150\n",
      "25/25 - 0s - 2ms/step - accuracy: 0.9499 - loss: 0.1569 - val_accuracy: 0.9350 - val_loss: 0.1919\n",
      "Epoch 14/150\n",
      "25/25 - 0s - 2ms/step - accuracy: 0.9398 - loss: 0.1511 - val_accuracy: 0.9300 - val_loss: 0.1883\n",
      "Epoch 15/150\n",
      "25/25 - 0s - 2ms/step - accuracy: 0.9436 - loss: 0.1474 - val_accuracy: 0.9350 - val_loss: 0.1749\n",
      "Epoch 16/150\n",
      "25/25 - 0s - 2ms/step - accuracy: 0.9185 - loss: 0.2011 - val_accuracy: 0.9400 - val_loss: 0.1789\n",
      "Epoch 17/150\n",
      "25/25 - 0s - 2ms/step - accuracy: 0.9536 - loss: 0.1383 - val_accuracy: 0.9000 - val_loss: 0.2029\n",
      "Epoch 18/150\n",
      "25/25 - 0s - 2ms/step - accuracy: 0.9461 - loss: 0.1390 - val_accuracy: 0.9400 - val_loss: 0.1679\n",
      "Epoch 19/150\n",
      "25/25 - 0s - 2ms/step - accuracy: 0.9499 - loss: 0.1367 - val_accuracy: 0.9350 - val_loss: 0.1845\n",
      "Epoch 20/150\n",
      "25/25 - 0s - 2ms/step - accuracy: 0.9499 - loss: 0.1307 - val_accuracy: 0.9400 - val_loss: 0.1660\n",
      "Epoch 21/150\n",
      "25/25 - 0s - 2ms/step - accuracy: 0.9561 - loss: 0.1136 - val_accuracy: 0.8900 - val_loss: 0.2663\n",
      "Epoch 22/150\n",
      "25/25 - 0s - 2ms/step - accuracy: 0.9549 - loss: 0.1121 - val_accuracy: 0.9050 - val_loss: 0.2256\n",
      "Epoch 23/150\n",
      "25/25 - 0s - 2ms/step - accuracy: 0.9699 - loss: 0.1038 - val_accuracy: 0.9400 - val_loss: 0.1632\n",
      "Epoch 24/150\n",
      "25/25 - 0s - 2ms/step - accuracy: 0.9662 - loss: 0.1038 - val_accuracy: 0.9300 - val_loss: 0.1993\n",
      "Epoch 25/150\n",
      "25/25 - 0s - 2ms/step - accuracy: 0.9662 - loss: 0.0922 - val_accuracy: 0.9400 - val_loss: 0.1619\n",
      "Epoch 26/150\n",
      "25/25 - 0s - 2ms/step - accuracy: 0.9561 - loss: 0.1145 - val_accuracy: 0.9400 - val_loss: 0.1693\n",
      "Epoch 27/150\n",
      "25/25 - 0s - 2ms/step - accuracy: 0.9687 - loss: 0.0836 - val_accuracy: 0.9200 - val_loss: 0.1861\n",
      "Epoch 28/150\n",
      "25/25 - 0s - 2ms/step - accuracy: 0.9599 - loss: 0.1073 - val_accuracy: 0.9350 - val_loss: 0.1835\n",
      "Epoch 29/150\n",
      "25/25 - 0s - 2ms/step - accuracy: 0.9612 - loss: 0.0926 - val_accuracy: 0.8950 - val_loss: 0.2235\n",
      "Epoch 30/150\n",
      "25/25 - 0s - 2ms/step - accuracy: 0.9687 - loss: 0.0856 - val_accuracy: 0.8550 - val_loss: 0.4313\n",
      "Epoch 31/150\n",
      "25/25 - 0s - 2ms/step - accuracy: 0.9637 - loss: 0.1058 - val_accuracy: 0.9450 - val_loss: 0.1623\n",
      "Epoch 32/150\n",
      "25/25 - 0s - 2ms/step - accuracy: 0.9624 - loss: 0.1044 - val_accuracy: 0.9450 - val_loss: 0.1704\n",
      "Epoch 33/150\n",
      "25/25 - 0s - 2ms/step - accuracy: 0.9549 - loss: 0.1139 - val_accuracy: 0.8900 - val_loss: 0.3054\n",
      "Epoch 34/150\n",
      "25/25 - 0s - 2ms/step - accuracy: 0.9649 - loss: 0.0854 - val_accuracy: 0.9300 - val_loss: 0.2075\n",
      "Epoch 35/150\n",
      "25/25 - 0s - 2ms/step - accuracy: 0.9774 - loss: 0.0677 - val_accuracy: 0.9400 - val_loss: 0.1659\n",
      "Epoch 36/150\n",
      "25/25 - 0s - 2ms/step - accuracy: 0.9825 - loss: 0.0622 - val_accuracy: 0.9450 - val_loss: 0.1707\n",
      "Epoch 37/150\n",
      "25/25 - 0s - 2ms/step - accuracy: 0.9687 - loss: 0.0782 - val_accuracy: 0.9050 - val_loss: 0.2696\n",
      "Epoch 38/150\n",
      "25/25 - 0s - 2ms/step - accuracy: 0.9825 - loss: 0.0575 - val_accuracy: 0.7600 - val_loss: 0.7222\n",
      "Epoch 39/150\n",
      "25/25 - 0s - 2ms/step - accuracy: 0.9524 - loss: 0.1275 - val_accuracy: 0.9250 - val_loss: 0.2201\n",
      "Epoch 40/150\n",
      "25/25 - 0s - 2ms/step - accuracy: 0.9724 - loss: 0.0746 - val_accuracy: 0.9300 - val_loss: 0.1941\n",
      "Epoch 41/150\n",
      "25/25 - 0s - 2ms/step - accuracy: 0.9812 - loss: 0.0641 - val_accuracy: 0.9250 - val_loss: 0.1758\n",
      "Epoch 42/150\n",
      "25/25 - 0s - 2ms/step - accuracy: 0.9837 - loss: 0.0590 - val_accuracy: 0.9300 - val_loss: 0.2073\n",
      "Epoch 43/150\n",
      "25/25 - 0s - 2ms/step - accuracy: 0.9712 - loss: 0.0742 - val_accuracy: 0.9450 - val_loss: 0.1681\n",
      "Epoch 44/150\n",
      "25/25 - 0s - 2ms/step - accuracy: 0.9850 - loss: 0.0516 - val_accuracy: 0.9450 - val_loss: 0.1764\n",
      "Epoch 45/150\n",
      "25/25 - 0s - 2ms/step - accuracy: 0.9799 - loss: 0.0537 - val_accuracy: 0.9400 - val_loss: 0.1708\n",
      "Epoch 46/150\n",
      "25/25 - 0s - 2ms/step - accuracy: 0.9837 - loss: 0.0477 - val_accuracy: 0.9400 - val_loss: 0.1833\n",
      "Epoch 47/150\n",
      "25/25 - 0s - 2ms/step - accuracy: 0.9787 - loss: 0.0570 - val_accuracy: 0.9400 - val_loss: 0.1853\n",
      "Epoch 48/150\n",
      "25/25 - 0s - 2ms/step - accuracy: 0.9825 - loss: 0.0532 - val_accuracy: 0.9450 - val_loss: 0.1921\n",
      "Epoch 49/150\n",
      "25/25 - 0s - 2ms/step - accuracy: 0.9887 - loss: 0.0462 - val_accuracy: 0.9400 - val_loss: 0.1765\n",
      "Epoch 50/150\n",
      "25/25 - 0s - 2ms/step - accuracy: 0.9850 - loss: 0.0450 - val_accuracy: 0.9400 - val_loss: 0.1794\n",
      "Epoch 51/150\n",
      "25/25 - 0s - 2ms/step - accuracy: 0.9900 - loss: 0.0501 - val_accuracy: 0.9450 - val_loss: 0.1781\n",
      "Epoch 52/150\n",
      "25/25 - 0s - 2ms/step - accuracy: 0.9925 - loss: 0.0401 - val_accuracy: 0.9450 - val_loss: 0.1816\n",
      "Epoch 53/150\n",
      "25/25 - 0s - 2ms/step - accuracy: 0.9925 - loss: 0.0363 - val_accuracy: 0.9450 - val_loss: 0.1944\n",
      "Epoch 54/150\n",
      "25/25 - 0s - 2ms/step - accuracy: 0.9875 - loss: 0.0431 - val_accuracy: 0.9400 - val_loss: 0.1810\n",
      "Epoch 55/150\n",
      "25/25 - 0s - 2ms/step - accuracy: 0.9912 - loss: 0.0381 - val_accuracy: 0.9450 - val_loss: 0.1837\n",
      "Epoch 56/150\n",
      "25/25 - 0s - 2ms/step - accuracy: 0.9825 - loss: 0.0499 - val_accuracy: 0.9450 - val_loss: 0.1899\n",
      "Epoch 57/150\n",
      "25/25 - 0s - 2ms/step - accuracy: 0.9912 - loss: 0.0354 - val_accuracy: 0.9500 - val_loss: 0.1844\n",
      "Epoch 58/150\n",
      "25/25 - 0s - 2ms/step - accuracy: 0.9875 - loss: 0.0409 - val_accuracy: 0.9400 - val_loss: 0.1859\n",
      "Epoch 59/150\n",
      "25/25 - 0s - 2ms/step - accuracy: 0.9962 - loss: 0.0294 - val_accuracy: 0.9400 - val_loss: 0.1887\n",
      "Epoch 60/150\n",
      "25/25 - 0s - 2ms/step - accuracy: 0.9887 - loss: 0.0377 - val_accuracy: 0.9300 - val_loss: 0.1909\n",
      "Epoch 61/150\n",
      "25/25 - 0s - 2ms/step - accuracy: 0.9950 - loss: 0.0345 - val_accuracy: 0.9400 - val_loss: 0.1982\n",
      "Epoch 62/150\n",
      "25/25 - 0s - 2ms/step - accuracy: 0.9962 - loss: 0.0315 - val_accuracy: 0.9250 - val_loss: 0.2522\n",
      "Epoch 63/150\n",
      "25/25 - 0s - 2ms/step - accuracy: 0.9950 - loss: 0.0270 - val_accuracy: 0.9350 - val_loss: 0.2169\n",
      "Epoch 64/150\n",
      "25/25 - 0s - 2ms/step - accuracy: 0.9975 - loss: 0.0265 - val_accuracy: 0.9350 - val_loss: 0.1970\n",
      "Epoch 65/150\n",
      "25/25 - 0s - 2ms/step - accuracy: 0.9950 - loss: 0.0307 - val_accuracy: 0.9250 - val_loss: 0.2384\n",
      "Epoch 66/150\n",
      "25/25 - 0s - 2ms/step - accuracy: 0.9862 - loss: 0.0388 - val_accuracy: 0.9450 - val_loss: 0.2104\n",
      "Epoch 67/150\n",
      "25/25 - 0s - 2ms/step - accuracy: 0.9950 - loss: 0.0250 - val_accuracy: 0.9350 - val_loss: 0.2007\n",
      "Epoch 68/150\n",
      "25/25 - 0s - 2ms/step - accuracy: 0.9937 - loss: 0.0262 - val_accuracy: 0.9400 - val_loss: 0.2080\n",
      "Epoch 69/150\n",
      "25/25 - 0s - 2ms/step - accuracy: 0.9975 - loss: 0.0227 - val_accuracy: 0.9400 - val_loss: 0.2024\n",
      "Epoch 70/150\n",
      "25/25 - 0s - 2ms/step - accuracy: 0.9937 - loss: 0.0257 - val_accuracy: 0.9150 - val_loss: 0.3163\n",
      "Epoch 71/150\n",
      "25/25 - 0s - 2ms/step - accuracy: 0.9950 - loss: 0.0271 - val_accuracy: 0.9250 - val_loss: 0.2317\n",
      "Epoch 72/150\n",
      "25/25 - 0s - 2ms/step - accuracy: 0.9962 - loss: 0.0236 - val_accuracy: 0.9400 - val_loss: 0.2251\n",
      "Epoch 73/150\n",
      "25/25 - 0s - 2ms/step - accuracy: 0.9975 - loss: 0.0208 - val_accuracy: 0.9350 - val_loss: 0.2170\n",
      "Epoch 74/150\n",
      "25/25 - 0s - 2ms/step - accuracy: 0.9987 - loss: 0.0180 - val_accuracy: 0.9400 - val_loss: 0.2150\n"
     ]
    },
    {
     "name": "stdout",
     "output_type": "stream",
     "text": [
      "Epoch 75/150\n",
      "25/25 - 0s - 2ms/step - accuracy: 0.9912 - loss: 0.0320 - val_accuracy: 0.9450 - val_loss: 0.2181\n",
      "Epoch 76/150\n",
      "25/25 - 0s - 2ms/step - accuracy: 0.9912 - loss: 0.0289 - val_accuracy: 0.9250 - val_loss: 0.2613\n",
      "Epoch 77/150\n",
      "25/25 - 0s - 2ms/step - accuracy: 0.9975 - loss: 0.0218 - val_accuracy: 0.9000 - val_loss: 0.3839\n",
      "Epoch 78/150\n",
      "25/25 - 0s - 2ms/step - accuracy: 0.9937 - loss: 0.0281 - val_accuracy: 0.9350 - val_loss: 0.2324\n",
      "Epoch 79/150\n",
      "25/25 - 0s - 2ms/step - accuracy: 0.9962 - loss: 0.0200 - val_accuracy: 0.9350 - val_loss: 0.2208\n",
      "Epoch 80/150\n",
      "25/25 - 0s - 2ms/step - accuracy: 0.9950 - loss: 0.0225 - val_accuracy: 0.9350 - val_loss: 0.2112\n",
      "Epoch 81/150\n",
      "25/25 - 0s - 2ms/step - accuracy: 0.9962 - loss: 0.0173 - val_accuracy: 0.9250 - val_loss: 0.2554\n",
      "Epoch 82/150\n",
      "25/25 - 0s - 2ms/step - accuracy: 0.9962 - loss: 0.0181 - val_accuracy: 0.9400 - val_loss: 0.2381\n",
      "Epoch 83/150\n",
      "25/25 - 0s - 2ms/step - accuracy: 0.9950 - loss: 0.0235 - val_accuracy: 0.9400 - val_loss: 0.2278\n",
      "Epoch 84/150\n",
      "25/25 - 0s - 2ms/step - accuracy: 0.9937 - loss: 0.0203 - val_accuracy: 0.9450 - val_loss: 0.2387\n",
      "Epoch 85/150\n",
      "25/25 - 0s - 2ms/step - accuracy: 1.0000 - loss: 0.0125 - val_accuracy: 0.9300 - val_loss: 0.2681\n",
      "Epoch 86/150\n",
      "25/25 - 0s - 2ms/step - accuracy: 0.9962 - loss: 0.0192 - val_accuracy: 0.9450 - val_loss: 0.2352\n",
      "Epoch 87/150\n",
      "25/25 - 0s - 2ms/step - accuracy: 0.9962 - loss: 0.0156 - val_accuracy: 0.9450 - val_loss: 0.2359\n",
      "Epoch 88/150\n",
      "25/25 - 0s - 2ms/step - accuracy: 0.9962 - loss: 0.0172 - val_accuracy: 0.9300 - val_loss: 0.2777\n",
      "Epoch 89/150\n",
      "25/25 - 0s - 3ms/step - accuracy: 1.0000 - loss: 0.0117 - val_accuracy: 0.9450 - val_loss: 0.2358\n",
      "Epoch 90/150\n",
      "25/25 - 0s - 3ms/step - accuracy: 1.0000 - loss: 0.0121 - val_accuracy: 0.9450 - val_loss: 0.2359\n",
      "Epoch 91/150\n",
      "25/25 - 0s - 3ms/step - accuracy: 0.9962 - loss: 0.0160 - val_accuracy: 0.9350 - val_loss: 0.2517\n",
      "Epoch 92/150\n",
      "25/25 - 0s - 3ms/step - accuracy: 1.0000 - loss: 0.0124 - val_accuracy: 0.9200 - val_loss: 0.2981\n",
      "Epoch 93/150\n",
      "25/25 - 0s - 3ms/step - accuracy: 1.0000 - loss: 0.0113 - val_accuracy: 0.9250 - val_loss: 0.2562\n",
      "Epoch 94/150\n",
      "25/25 - 0s - 3ms/step - accuracy: 1.0000 - loss: 0.0106 - val_accuracy: 0.9450 - val_loss: 0.2439\n",
      "Epoch 95/150\n",
      "25/25 - 0s - 3ms/step - accuracy: 1.0000 - loss: 0.0102 - val_accuracy: 0.9250 - val_loss: 0.2688\n",
      "Epoch 96/150\n",
      "25/25 - 0s - 3ms/step - accuracy: 0.9987 - loss: 0.0133 - val_accuracy: 0.9400 - val_loss: 0.2409\n",
      "Epoch 97/150\n",
      "25/25 - 0s - 3ms/step - accuracy: 1.0000 - loss: 0.0112 - val_accuracy: 0.9250 - val_loss: 0.2838\n",
      "Epoch 98/150\n",
      "25/25 - 0s - 3ms/step - accuracy: 0.9987 - loss: 0.0109 - val_accuracy: 0.9400 - val_loss: 0.2529\n",
      "Epoch 99/150\n",
      "25/25 - 0s - 3ms/step - accuracy: 1.0000 - loss: 0.0101 - val_accuracy: 0.9350 - val_loss: 0.2589\n",
      "Epoch 100/150\n",
      "25/25 - 0s - 3ms/step - accuracy: 1.0000 - loss: 0.0097 - val_accuracy: 0.9250 - val_loss: 0.2799\n",
      "Epoch 101/150\n",
      "25/25 - 0s - 3ms/step - accuracy: 0.9987 - loss: 0.0100 - val_accuracy: 0.9350 - val_loss: 0.2473\n",
      "Epoch 102/150\n",
      "25/25 - 0s - 3ms/step - accuracy: 1.0000 - loss: 0.0095 - val_accuracy: 0.9400 - val_loss: 0.2521\n",
      "Epoch 103/150\n",
      "25/25 - 0s - 3ms/step - accuracy: 1.0000 - loss: 0.0086 - val_accuracy: 0.9350 - val_loss: 0.2493\n",
      "Epoch 104/150\n",
      "25/25 - 0s - 2ms/step - accuracy: 1.0000 - loss: 0.0087 - val_accuracy: 0.9250 - val_loss: 0.2816\n",
      "Epoch 105/150\n",
      "25/25 - 0s - 2ms/step - accuracy: 1.0000 - loss: 0.0089 - val_accuracy: 0.9350 - val_loss: 0.2625\n",
      "Epoch 106/150\n",
      "25/25 - 0s - 3ms/step - accuracy: 1.0000 - loss: 0.0081 - val_accuracy: 0.9200 - val_loss: 0.2708\n",
      "Epoch 107/150\n",
      "25/25 - 0s - 3ms/step - accuracy: 1.0000 - loss: 0.0084 - val_accuracy: 0.9350 - val_loss: 0.2540\n",
      "Epoch 108/150\n",
      "25/25 - 0s - 3ms/step - accuracy: 1.0000 - loss: 0.0102 - val_accuracy: 0.9350 - val_loss: 0.2629\n",
      "Epoch 109/150\n",
      "25/25 - 0s - 3ms/step - accuracy: 0.9987 - loss: 0.0095 - val_accuracy: 0.9350 - val_loss: 0.2539\n",
      "Epoch 110/150\n",
      "25/25 - 0s - 2ms/step - accuracy: 1.0000 - loss: 0.0076 - val_accuracy: 0.9250 - val_loss: 0.2827\n",
      "Epoch 111/150\n",
      "25/25 - 0s - 2ms/step - accuracy: 0.9987 - loss: 0.0093 - val_accuracy: 0.9300 - val_loss: 0.2673\n",
      "Epoch 112/150\n",
      "25/25 - 0s - 3ms/step - accuracy: 1.0000 - loss: 0.0073 - val_accuracy: 0.9350 - val_loss: 0.2644\n",
      "Epoch 113/150\n",
      "25/25 - 0s - 3ms/step - accuracy: 1.0000 - loss: 0.0075 - val_accuracy: 0.9350 - val_loss: 0.2614\n",
      "Epoch 114/150\n",
      "25/25 - 0s - 3ms/step - accuracy: 1.0000 - loss: 0.0065 - val_accuracy: 0.9350 - val_loss: 0.2646\n",
      "Epoch 115/150\n",
      "25/25 - 0s - 3ms/step - accuracy: 1.0000 - loss: 0.0068 - val_accuracy: 0.9150 - val_loss: 0.2800\n",
      "Epoch 116/150\n",
      "25/25 - 0s - 3ms/step - accuracy: 1.0000 - loss: 0.0069 - val_accuracy: 0.9400 - val_loss: 0.2636\n",
      "Epoch 117/150\n",
      "25/25 - 0s - 3ms/step - accuracy: 1.0000 - loss: 0.0062 - val_accuracy: 0.9200 - val_loss: 0.2821\n",
      "Epoch 118/150\n",
      "25/25 - 0s - 3ms/step - accuracy: 1.0000 - loss: 0.0070 - val_accuracy: 0.9300 - val_loss: 0.2738\n",
      "Epoch 119/150\n",
      "25/25 - 0s - 3ms/step - accuracy: 1.0000 - loss: 0.0068 - val_accuracy: 0.9300 - val_loss: 0.2728\n",
      "Epoch 120/150\n",
      "25/25 - 0s - 3ms/step - accuracy: 1.0000 - loss: 0.0072 - val_accuracy: 0.9200 - val_loss: 0.2841\n",
      "Epoch 121/150\n",
      "25/25 - 0s - 3ms/step - accuracy: 1.0000 - loss: 0.0068 - val_accuracy: 0.9400 - val_loss: 0.2659\n",
      "Epoch 122/150\n",
      "25/25 - 0s - 2ms/step - accuracy: 1.0000 - loss: 0.0062 - val_accuracy: 0.9400 - val_loss: 0.2619\n",
      "Epoch 123/150\n",
      "25/25 - 0s - 2ms/step - accuracy: 1.0000 - loss: 0.0060 - val_accuracy: 0.9350 - val_loss: 0.2619\n",
      "Epoch 124/150\n",
      "25/25 - 0s - 2ms/step - accuracy: 1.0000 - loss: 0.0059 - val_accuracy: 0.9350 - val_loss: 0.2735\n",
      "Epoch 125/150\n",
      "25/25 - 0s - 2ms/step - accuracy: 1.0000 - loss: 0.0056 - val_accuracy: 0.9400 - val_loss: 0.2696\n",
      "Epoch 126/150\n",
      "25/25 - 0s - 2ms/step - accuracy: 1.0000 - loss: 0.0059 - val_accuracy: 0.9200 - val_loss: 0.2867\n",
      "Epoch 127/150\n",
      "25/25 - 0s - 3ms/step - accuracy: 1.0000 - loss: 0.0055 - val_accuracy: 0.9200 - val_loss: 0.2853\n",
      "Epoch 128/150\n",
      "25/25 - 0s - 3ms/step - accuracy: 1.0000 - loss: 0.0055 - val_accuracy: 0.9350 - val_loss: 0.2678\n",
      "Epoch 129/150\n",
      "25/25 - 0s - 2ms/step - accuracy: 1.0000 - loss: 0.0057 - val_accuracy: 0.9350 - val_loss: 0.2666\n",
      "Epoch 130/150\n",
      "25/25 - 0s - 2ms/step - accuracy: 1.0000 - loss: 0.0053 - val_accuracy: 0.9300 - val_loss: 0.2810\n",
      "Epoch 131/150\n",
      "25/25 - 0s - 2ms/step - accuracy: 1.0000 - loss: 0.0053 - val_accuracy: 0.9400 - val_loss: 0.2728\n",
      "Epoch 132/150\n",
      "25/25 - 0s - 2ms/step - accuracy: 1.0000 - loss: 0.0053 - val_accuracy: 0.9150 - val_loss: 0.2988\n",
      "Epoch 133/150\n",
      "25/25 - 0s - 2ms/step - accuracy: 1.0000 - loss: 0.0050 - val_accuracy: 0.9300 - val_loss: 0.2851\n",
      "Epoch 134/150\n",
      "25/25 - 0s - 2ms/step - accuracy: 1.0000 - loss: 0.0048 - val_accuracy: 0.9100 - val_loss: 0.2986\n",
      "Epoch 135/150\n",
      "25/25 - 0s - 2ms/step - accuracy: 1.0000 - loss: 0.0049 - val_accuracy: 0.9300 - val_loss: 0.2845\n",
      "Epoch 136/150\n",
      "25/25 - 0s - 2ms/step - accuracy: 1.0000 - loss: 0.0048 - val_accuracy: 0.9300 - val_loss: 0.2844\n",
      "Epoch 137/150\n",
      "25/25 - 0s - 2ms/step - accuracy: 1.0000 - loss: 0.0052 - val_accuracy: 0.9300 - val_loss: 0.2861\n",
      "Epoch 138/150\n",
      "25/25 - 0s - 2ms/step - accuracy: 1.0000 - loss: 0.0046 - val_accuracy: 0.9200 - val_loss: 0.3057\n",
      "Epoch 139/150\n",
      "25/25 - 0s - 2ms/step - accuracy: 1.0000 - loss: 0.0046 - val_accuracy: 0.9300 - val_loss: 0.2897\n",
      "Epoch 140/150\n",
      "25/25 - 0s - 2ms/step - accuracy: 1.0000 - loss: 0.0044 - val_accuracy: 0.9300 - val_loss: 0.2884\n",
      "Epoch 141/150\n",
      "25/25 - 0s - 2ms/step - accuracy: 1.0000 - loss: 0.0044 - val_accuracy: 0.9100 - val_loss: 0.3006\n",
      "Epoch 142/150\n",
      "25/25 - 0s - 2ms/step - accuracy: 1.0000 - loss: 0.0041 - val_accuracy: 0.9300 - val_loss: 0.2920\n",
      "Epoch 143/150\n",
      "25/25 - 0s - 2ms/step - accuracy: 1.0000 - loss: 0.0042 - val_accuracy: 0.9400 - val_loss: 0.2806\n",
      "Epoch 144/150\n",
      "25/25 - 0s - 2ms/step - accuracy: 1.0000 - loss: 0.0042 - val_accuracy: 0.9300 - val_loss: 0.2881\n",
      "Epoch 145/150\n",
      "25/25 - 0s - 2ms/step - accuracy: 1.0000 - loss: 0.0041 - val_accuracy: 0.9100 - val_loss: 0.3018\n",
      "Epoch 146/150\n",
      "25/25 - 0s - 2ms/step - accuracy: 1.0000 - loss: 0.0040 - val_accuracy: 0.9100 - val_loss: 0.3094\n",
      "Epoch 147/150\n",
      "25/25 - 0s - 2ms/step - accuracy: 1.0000 - loss: 0.0042 - val_accuracy: 0.9350 - val_loss: 0.2899\n",
      "Epoch 148/150\n",
      "25/25 - 0s - 2ms/step - accuracy: 1.0000 - loss: 0.0041 - val_accuracy: 0.9150 - val_loss: 0.3007\n"
     ]
    },
    {
     "name": "stdout",
     "output_type": "stream",
     "text": [
      "Epoch 149/150\n",
      "25/25 - 0s - 2ms/step - accuracy: 1.0000 - loss: 0.0042 - val_accuracy: 0.9100 - val_loss: 0.3100\n",
      "Epoch 150/150\n",
      "25/25 - 0s - 2ms/step - accuracy: 1.0000 - loss: 0.0038 - val_accuracy: 0.9400 - val_loss: 0.2856\n"
     ]
    },
    {
     "data": {
      "text/plain": [
       "<keras.src.callbacks.history.History at 0x25ef359a900>"
      ]
     },
     "execution_count": 55,
     "metadata": {},
     "output_type": "execute_result"
    }
   ],
   "source": [
    "Network.fit(X_train , y_train , batch_size = 32 ,  epochs=150, verbose=2, validation_data = (X_test , y_test)) "
   ]
  },
  {
   "cell_type": "code",
   "execution_count": 56,
   "id": "9ba55b05",
   "metadata": {},
   "outputs": [
    {
     "name": "stderr",
     "output_type": "stream",
     "text": [
      "WARNING:absl:You are saving your model as an HDF5 file via `model.save()` or `keras.saving.save_model(model)`. This file format is considered legacy. We recommend using instead the native Keras format, e.g. `model.save('my_model.keras')` or `keras.saving.save_model(model, 'my_model.keras')`. \n"
     ]
    }
   ],
   "source": [
    "Network.save(\"mlo.h5\")"
   ]
  },
  {
   "cell_type": "code",
   "execution_count": null,
   "id": "239e9b36",
   "metadata": {},
   "outputs": [],
   "source": [
    "Face = cv2.CascadeClassifier(cv2.data.haarcascades)"
   ]
  }
 ],
 "metadata": {
  "kernelspec": {
   "display_name": "Python 3 (ipykernel)",
   "language": "python",
   "name": "python3"
  },
  "language_info": {
   "codemirror_mode": {
    "name": "ipython",
    "version": 3
   },
   "file_extension": ".py",
   "mimetype": "text/x-python",
   "name": "python",
   "nbconvert_exporter": "python",
   "pygments_lexer": "ipython3",
   "version": "3.12.4"
  }
 },
 "nbformat": 4,
 "nbformat_minor": 5
}
